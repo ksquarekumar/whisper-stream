{
 "cells": [
  {
   "cell_type": "code",
   "execution_count": null,
   "metadata": {},
   "outputs": [],
   "source": [
    "from whisper_stream import load_data_sample_from_path\n",
    "from whisper_stream.pipelines import ValidJaxCheckpoints, pipeline_factory\n",
    "\n",
    "model: ValidJaxCheckpoints = \"openai/whisper-tiny\""
   ]
  },
  {
   "cell_type": "code",
   "execution_count": null,
   "metadata": {},
   "outputs": [],
   "source": [
    "# Large files\n",
    "# Warm-up\n",
    "implicit_pipeline_data: bytes = load_data_sample_from_path(\"audio_1.mp3\", True)\n",
    "implicit_pipeline = pipeline_factory(\"jax\", \"implicit_batching\")(\n",
    "    model, implicit_pipeline_data, return_timestamps=True, language=\"english\", task=\"transcribe\"\n",
    ")"
   ]
  },
  {
   "cell_type": "code",
   "execution_count": null,
   "metadata": {},
   "outputs": [],
   "source": [
    "# use\n",
    "implicit_pipeline(implicit_pipeline_data)\n",
    "implicit_pipeline(implicit_pipeline_data, return_timestamps=True, language=\"english\", task=\"transcribe\")"
   ]
  },
  {
   "cell_type": "code",
   "execution_count": null,
   "metadata": {},
   "outputs": [],
   "source": [
    "# without options, it should be faster\n",
    "implicit_pipeline(implicit_pipeline_data)"
   ]
  },
  {
   "cell_type": "code",
   "execution_count": null,
   "metadata": {},
   "outputs": [],
   "source": [
    "# Multiple Smaller Files\n",
    "# Warm-up\n",
    "explicit_pipeline_data: list[bytes] = [load_data_sample_from_path(\"audio_1.mp3\", True)] * 10\n",
    "explicit_pipeline = pipeline_factory(\"jax\", \"explicit_batching\")(\n",
    "    model, explicit_pipeline_data, return_timestamps=True, language=\"<|en|>\", task=\"transcribe\"\n",
    ")"
   ]
  },
  {
   "cell_type": "code",
   "execution_count": null,
   "metadata": {},
   "outputs": [],
   "source": [
    "# use with all options\n",
    "explicit_pipeline(explicit_pipeline_data, parallelize=False)"
   ]
  }
 ],
 "metadata": {
  "kernelspec": {
   "display_name": ".venv",
   "language": "python",
   "name": "python3"
  },
  "language_info": {
   "codemirror_mode": {
    "name": "ipython",
    "version": 3
   },
   "file_extension": ".py",
   "mimetype": "text/x-python",
   "name": "python",
   "nbconvert_exporter": "python",
   "pygments_lexer": "ipython3",
   "version": "3.10.12"
  }
 },
 "nbformat": 4,
 "nbformat_minor": 2
}

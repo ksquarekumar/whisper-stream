{
 "cells": [
  {
   "cell_type": "code",
   "execution_count": null,
   "metadata": {},
   "outputs": [],
   "source": [
    "%load_ext autoreload\n"
   ]
  },
  {
   "cell_type": "code",
   "execution_count": null,
   "metadata": {},
   "outputs": [],
   "source": [
    "import jax\n",
    "\n",
    "jax.device_count(), jax.devices()[0].device_kind"
   ]
  },
  {
   "cell_type": "code",
   "execution_count": null,
   "metadata": {},
   "outputs": [],
   "source": [
    "from whisper_stream import load_data_samples_from_path\n",
    "from whisper_stream.pipelines import JAXPipeline, JAXValidDtypesMapping, JAXScalarDType, JAXCheckpoints, JAXValidTasks\n",
    "\n",
    "%autoreload 2"
   ]
  },
  {
   "cell_type": "code",
   "execution_count": null,
   "metadata": {},
   "outputs": [],
   "source": [
    "checkpoint: JAXCheckpoints = \"openai/whisper-large-v2\"\n",
    "model_dtype: JAXScalarDType = JAXValidDtypesMapping[\"BFLOAT16\"]\n",
    "task: JAXValidTasks = \"transcribe\"\n",
    "language: str = \"english\"\n",
    "return_timestamps: bool = False\n",
    "\n",
    "# construct\n",
    "pipeline = JAXPipeline(checkpoint=checkpoint, dtype=model_dtype, batch_size=1)"
   ]
  },
  {
   "cell_type": "code",
   "execution_count": null,
   "metadata": {},
   "outputs": [],
   "source": [
    "# Load data\n",
    "pipeline_data: bytes = load_data_samples_from_path(\"audio_2.mp3\", binary_mode=True)"
   ]
  },
  {
   "cell_type": "code",
   "execution_count": null,
   "metadata": {},
   "outputs": [],
   "source": [
    "# initialize\n",
    "pipeline.initialize_pipeline(language=language, task=task, return_timestamps=return_timestamps)\n",
    "\n",
    "# warmup\n",
    "pipeline(pipeline_data)"
   ]
  },
  {
   "cell_type": "code",
   "execution_count": null,
   "metadata": {},
   "outputs": [],
   "source": [
    "%%timeit\n",
    "pipeline(pipeline_data)"
   ]
  },
  {
   "cell_type": "code",
   "execution_count": null,
   "metadata": {},
   "outputs": [],
   "source": [
    "%%timeit\n",
    "pipeline([pipeline_data] * 10)"
   ]
  }
 ],
 "metadata": {
  "kernelspec": {
   "display_name": ".venv",
   "language": "python",
   "name": "python3"
  },
  "language_info": {
   "codemirror_mode": {
    "name": "ipython",
    "version": 3
   },
   "file_extension": ".py",
   "mimetype": "text/x-python",
   "name": "python",
   "nbconvert_exporter": "python",
   "pygments_lexer": "ipython3",
   "version": "3.11.5"
  }
 },
 "nbformat": 4,
 "nbformat_minor": 2
}

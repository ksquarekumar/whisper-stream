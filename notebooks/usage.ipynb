{
 "cells": [
  {
   "cell_type": "code",
   "execution_count": null,
   "metadata": {},
   "outputs": [],
   "source": [
    "from whisper_stream import load_data_sample_from_path\n",
    "from whisper_stream.pipelines import ValidJaxCheckpoints, pipeline_factory\n",
    "\n",
    "model: ValidJaxCheckpoints = \"openai/whisper-tiny\"\n",
    "data: bytes = load_data_sample_from_path(\"audio_1.mp3\", True)"
   ]
  },
  {
   "cell_type": "code",
   "execution_count": null,
   "metadata": {},
   "outputs": [],
   "source": [
    "# Large files\n",
    "# Warm-up\n",
    "impl_pipeline = pipeline_factory(\"jax\", \"implicit_batching\")(model, data)\n",
    "\n",
    "# use\n",
    "impl_pipeline(data)"
   ]
  },
  {
   "cell_type": "code",
   "execution_count": null,
   "metadata": {},
   "outputs": [],
   "source": [
    "# Multiple Smaller Files\n",
    "# Warm-up\n",
    "explicit_pipeline = pipeline_factory(\"jax\", \"explicit_batching\")(model, [data] * 10)\n",
    "\n",
    "# use\n",
    "explicit_pipeline([data] * 10)"
   ]
  }
 ],
 "metadata": {
  "kernelspec": {
   "display_name": ".venv",
   "language": "python",
   "name": "python3"
  },
  "language_info": {
   "codemirror_mode": {
    "name": "ipython",
    "version": 3
   },
   "file_extension": ".py",
   "mimetype": "text/x-python",
   "name": "python",
   "nbconvert_exporter": "python",
   "pygments_lexer": "ipython3",
   "version": "3.10.12"
  }
 },
 "nbformat": 4,
 "nbformat_minor": 2
}

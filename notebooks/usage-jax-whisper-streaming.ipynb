{
 "cells": [
  {
   "cell_type": "code",
   "execution_count": 1,
   "metadata": {},
   "outputs": [
    {
     "name": "stdout",
     "output_type": "stream",
     "text": [
      "/home/ubuntu/whisper-dev/whisper-stream/notebooks\n"
     ]
    }
   ],
   "source": [
    "%%sh\n",
    "pwd\n",
    "unset XLA_PYTHON_CLIENT_PREALLOCATE"
   ]
  },
  {
   "cell_type": "code",
   "execution_count": 2,
   "metadata": {},
   "outputs": [],
   "source": [
    "%load_ext autoreload\n",
    "%load_ext viztracer"
   ]
  },
  {
   "cell_type": "code",
   "execution_count": 3,
   "metadata": {},
   "outputs": [
    {
     "data": {
      "text/plain": [
       "(1, 'NVIDIA A10G')"
      ]
     },
     "execution_count": 3,
     "metadata": {},
     "output_type": "execute_result"
    }
   ],
   "source": [
    "import jax\n",
    "\n",
    "jax.device_count(), jax.devices()[0].device_kind"
   ]
  },
  {
   "cell_type": "code",
   "execution_count": 4,
   "metadata": {},
   "outputs": [],
   "source": [
    "from whisper_stream.core.helpers.data_loading import load_data_samples_from_path\n",
    "from whisper_stream.pipelines.jax_pipelines import (\n",
    "    JAXStreamingPipeline,\n",
    ")\n",
    "from whisper_stream.pipelines.jax_pipelines.constants import (\n",
    "    JAXValidDtypesMapping,\n",
    "    JAXScalarDType,\n",
    ")\n",
    "\n",
    "from whisper_stream.core.constants import WhisperValidCheckpoints, WhisperValidTasks\n",
    "\n",
    "from whisper_stream.core.logger import LOG_LEVEL_NAMES\n",
    "from pathlib import Path\n",
    "import time\n",
    "\n",
    "%autoreload 2"
   ]
  },
  {
   "cell_type": "code",
   "execution_count": 5,
   "metadata": {},
   "outputs": [],
   "source": [
    "# Prepare\n",
    "checkpoint: WhisperValidCheckpoints = \"openai/whisper-large-v2\"\n",
    "model_dtype: JAXScalarDType = JAXValidDtypesMapping[\"BFLOAT16\"]\n",
    "task: WhisperValidTasks = \"transcribe\"\n",
    "language: str = \"english\"\n",
    "return_timestamps: bool = True\n",
    "batch_size: int = 1\n",
    "log_level: LOG_LEVEL_NAMES = \"INFO\"\n",
    "\n",
    "data_directory = Path(\"../data\")\n",
    "\n",
    "run_opts = {\n",
    "    \"batch_size\": batch_size,\n",
    "    \"return_timestamps\": return_timestamps,\n",
    "    \"language\": language,\n",
    "    \"task\": task,\n",
    "}\n",
    "\n",
    "# construct\n",
    "pipeline = JAXStreamingPipeline(\n",
    "    checkpoint=checkpoint,\n",
    "    dtype=model_dtype,\n",
    "    batch_size=batch_size,\n",
    "    min_log_level=log_level,\n",
    ")"
   ]
  },
  {
   "cell_type": "code",
   "execution_count": 6,
   "metadata": {},
   "outputs": [
    {
     "data": {
      "text/plain": [
       "(67823, 4644352)"
      ]
     },
     "execution_count": 6,
     "metadata": {},
     "output_type": "execute_result"
    }
   ],
   "source": [
    "# Load data\n",
    "pipeline_data: bytes = load_data_samples_from_path(\n",
    "    \"audio_2.mp3\", directory=data_directory, binary_mode=True\n",
    ")  # 2s\n",
    "pipeline_data_large: bytes = load_data_samples_from_path(\n",
    "    \"tryst.mp3\", directory=data_directory, binary_mode=True\n",
    ")  # 4:44s\n",
    "len(pipeline_data), len(pipeline_data_large)"
   ]
  },
  {
   "cell_type": "code",
   "execution_count": 7,
   "metadata": {},
   "outputs": [
    {
     "name": "stdout",
     "output_type": "stream",
     "text": [
      "event=\"Initializing openai/whisper-large-v2/<class 'jax.numpy.bfloat16'> pipeline\" application='whisper_stream' version='0.0.4' python_version='3.11.5' platform_architecture=('64bit', 'ELF') level='info' timestamp='2023-09-03T18:59:32.224731Z'\n"
     ]
    },
    {
     "name": "stderr",
     "output_type": "stream",
     "text": [
      "WARNING:jax._src.compilation_cache:Initialized persistent compilation cache at /home/ubuntu/.whisper_stream/.cache/jax\n"
     ]
    },
    {
     "name": "stdout",
     "output_type": "stream",
     "text": [
      "event=\"Compiling openai/whisper-large-v2/<class 'jax.numpy.bfloat16'> pipeline\" application='whisper_stream' version='0.0.4' python_version='3.11.5' platform_architecture=('64bit', 'ELF') level='info' timestamp='2023-09-03T18:59:32.226172Z'\n"
     ]
    },
    {
     "name": "stderr",
     "output_type": "stream",
     "text": [
      "loc(\"-\":700:9): error: Dialect `cf' not found for custom op 'cf.switch' \n",
      "/home/ubuntu/.pyenv/versions/mambaforge-22.9.0-3/envs/whisper_py311/lib/python3.11/site-packages/jax/_src/dispatch.py:531: UserWarning: Error reading persistent compilation cache entry for 'pmap_generate': XlaRuntimeError: INTERNAL: Failed to parse AOT compiled module\n",
      "  warnings.warn(\n",
      "INFO:jax._src.dispatch:'pmap_generate' took at least 1.00 seconds to compile (34.83s), writing persistent cache entry\n",
      "INFO:jax._src.compilation_cache:Writing pmap_generate to persistent compilation cache with key 8527d0dc345a8af6ae3ce4eb33979f8ccbe96d8b5f56ca93aa5832aba08d17d8.\n",
      "INFO:jax._src.dispatch:Not writing persistent cache entry for 'jit_reshape' because it took < 1.00 seconds to compile (0.01s)\n"
     ]
    },
    {
     "name": "stdout",
     "output_type": "stream",
     "text": [
      "event='Compilation done in 46.57s' application='whisper_stream' version='0.0.4' python_version='3.11.5' platform_architecture=('64bit', 'ELF') level='info' timestamp='2023-09-03T19:00:18.798081Z'\n",
      "CPU times: user 1min 6s, sys: 1.4 s, total: 1min 8s\n",
      "Wall time: 46.6 s\n"
     ]
    }
   ],
   "source": [
    "# initialize & warmup\n",
    "%time pipeline.initialize_pipeline(**run_opts, use_experimental_cache=True)"
   ]
  },
  {
   "cell_type": "code",
   "execution_count": 8,
   "metadata": {},
   "outputs": [
    {
     "name": "stdout",
     "output_type": "stream",
     "text": [
      "event='ffmpeg conversion' time_taken='0.022s' application='whisper_stream' version='0.0.4' python_version='3.11.5' platform_architecture=('64bit', 'ELF') num_items=1 level='info' timestamp='2023-09-03T19:00:18.841356Z'\n",
      "CPU times: user 443 ms, sys: 407 ms, total: 849 ms\n",
      "Wall time: 379 ms\n"
     ]
    },
    {
     "data": {
      "text/plain": [
       "[[{'text': ' I know all the players of cricket.',\n",
       "   'chunks': [{'timestamp': (0.0, 2.8),\n",
       "     'text': ' I know all the players of cricket.'}]}]]"
      ]
     },
     "execution_count": 8,
     "metadata": {},
     "output_type": "execute_result"
    }
   ],
   "source": [
    "# should be warmed up now (time should be similar to # small data)\n",
    "%time list(pipeline(pipeline_data, **run_opts))"
   ]
  },
  {
   "cell_type": "code",
   "execution_count": 9,
   "metadata": {},
   "outputs": [
    {
     "name": "stdout",
     "output_type": "stream",
     "text": [
      "event='ffmpeg conversion' time_taken='0.022s' application='whisper_stream' version='0.0.4' python_version='3.11.5' platform_architecture=('64bit', 'ELF') num_items=1 level='info' timestamp='2023-09-03T19:00:19.243766Z'\n"
     ]
    },
    {
     "name": "stdout",
     "output_type": "stream",
     "text": [
      "CPU times: user 477 ms, sys: 431 ms, total: 908 ms\n",
      "Wall time: 378 ms\n"
     ]
    },
    {
     "data": {
      "text/plain": [
       "[[{'text': ' I know all the players of cricket.',\n",
       "   'chunks': [{'timestamp': (0.0, 2.8),\n",
       "     'text': ' I know all the players of cricket.'}]}]]"
      ]
     },
     "execution_count": 9,
     "metadata": {},
     "output_type": "execute_result"
    }
   ],
   "source": [
    "# small data\n",
    "%time list(pipeline(pipeline_data, **run_opts))"
   ]
  },
  {
   "cell_type": "code",
   "execution_count": 10,
   "metadata": {},
   "outputs": [
    {
     "name": "stdout",
     "output_type": "stream",
     "text": [
      "event='ffmpeg conversion' time_taken='0.1s' application='whisper_stream' version='0.0.4' python_version='3.11.5' platform_architecture=('64bit', 'ELF') num_items=10 level='info' timestamp='2023-09-03T19:00:19.726702Z'\n"
     ]
    }
   ],
   "source": [
    "# small data in batch\n",
    "%time list(pipeline([pipeline_data] * 10, **run_opts))"
   ]
  },
  {
   "cell_type": "code",
   "execution_count": null,
   "metadata": {},
   "outputs": [
    {
     "name": "stdout",
     "output_type": "stream",
     "text": [
      "event='ffmpeg conversion' time_taken='0.63s' application='whisper_stream' version='0.0.4' python_version='3.11.5' platform_architecture=('64bit', 'ELF') num_items=1 level='info' timestamp='2023-09-03T18:58:46.261793Z'\n"
     ]
    },
    {
     "name": "stdout",
     "output_type": "stream",
     "text": [
      "CPU times: user 19.8 s, sys: 7.28 s, total: 27 s\n",
      "Wall time: 18.7 s\n"
     ]
    },
    {
     "data": {
      "text/plain": [
       "[[{'text': ' Long years ago, we made a truce with destiny, and now the time comes when we shall redeem our pledge, not only or in full measure, but very substantially. At the stroke of the midnight hour, when the world sleeps, India will awake to life and freedom. At the stroke of the midnight hour, when the world sleeps, India will awake to life and freedom. A moment comes, which comes but rarely in history, when we step out from the old to the new, kept out from the old to the new, when an age end, and when the soul of a nation, long suppressed, finds utterance. It is fitting that at this solemn moment we take the pledge of dedication to the service of India and her people, and to the still larger cause of humanity. her people and to the still larger cause of humanity. At the dawn of history, India started on her unending quest, and trackless centuries are filled with her striving and the grandeur of her successes and her failures. Through good and ill fortune alike, she has never lost sight of that quest or forgotten Through good and ill fortune alike, she has never lost sight of that quest or forgotten the ideals which gave her strength. We end today a period of ill fortune, and India discovers herself again. The achievement we celebrate today is but a step, an opening of opportunity to the greater triumphs and achievements that await us. Are we brave enough and wise enough to grasp this opportunity and accept the challenge of the future? challenge of the future. Freedom and power bring responsibility. That responsibility rests upon this assembly, a sovereign body representing the sovereign people of India. Before the birth of freedom, we have endured all the pains of labour, and our hearts are heavy with the memory of this sorrow. all the pains of labor, and our hearts are heavy with the memory of this sorrow. Some of those pains continue even now. Nevertheless, the past is over, and it is the future that beckons to us now. That future is not one of ease or resting, but of incessant striving, so that we might fulfill That future is not one of ease or resting, but of incessant striving, so that we might fulfil the pledges we have so often taken, and the one we shall take today. The service of India means the service of the millions who suffer. who suffer. It means the ending of poverty and ignorance and disease and inequality of opportunity. The ambition of the greatest men of our generation has been to wipe every tear from every eye. Death may be beyond us, but so long as there are tears and suffering, That may be beyond us, but so long as there are tears and suffering, so long our work will not be over. And so we have to labor and to work, and work hard to give reality to our dreams. Those dreams are for India, but they are also for the world, for all the nations and peoples Those dreams are for India, but they are also for the world, for all the nations and peoples are too closely knit together today for any one of them to imagine that it can live apart. Peace has been said to be indivisible, so is freedom, so is prosperity now, and so also freedom, so is prosperity now, and so also is disaster in this one world that can no longer be split into isolated fragments. To the people of India, whose representatives we are, we make appeal to join us with faith and confidence in this great adventure. join us with faith and confidence in this great adventure. This is no time for pity and destructive criticism, no time for ill will or blaming others. We have to build the noble mansion of free India where all her children may dwell. well.',\n",
       "   'chunks': [{'timestamp': (0.0, 10.92),\n",
       "     'text': ' Long years ago, we made a truce with destiny, and now the time comes when we shall redeem'},\n",
       "    {'timestamp': (10.92, 20.36),\n",
       "     'text': ' our pledge, not only or in full measure, but very substantially.'},\n",
       "    {'timestamp': (20.36, 27.36),\n",
       "     'text': ' At the stroke of the midnight hour, when the world sleeps, India will awake to life and'},\n",
       "    {'timestamp': (27.36, 28.36), 'text': ' freedom.'},\n",
       "    {'timestamp': (0.0, 8.0),\n",
       "     'text': ' At the stroke of the midnight hour, when the world sleeps, India will awake to life and freedom.'},\n",
       "    {'timestamp': (13.0, 22.0),\n",
       "     'text': ' A moment comes, which comes but rarely in history, when we step out from the old to the new,'},\n",
       "    {'timestamp': (0.0, 8.0),\n",
       "     'text': ' kept out from the old to the new, when an age end, and when the soul of a nation, long'},\n",
       "    {'timestamp': (8.0, 12.0), 'text': ' suppressed, finds utterance.'},\n",
       "    {'timestamp': (12.0, 18.92),\n",
       "     'text': ' It is fitting that at this solemn moment we take the pledge of dedication to the service'},\n",
       "    {'timestamp': (18.92, 26.56),\n",
       "     'text': ' of India and her people, and to the still larger cause of humanity.'},\n",
       "    {'timestamp': (0.0, 6.52),\n",
       "     'text': ' her people and to the still larger cause of humanity.'},\n",
       "    {'timestamp': (6.52, 14.8),\n",
       "     'text': ' At the dawn of history, India started on her unending quest, and trackless centuries are'},\n",
       "    {'timestamp': (14.8, 20.8),\n",
       "     'text': ' filled with her striving and the grandeur of her successes and her failures.'},\n",
       "    {'timestamp': (20.8, 28.44),\n",
       "     'text': ' Through good and ill fortune alike, she has never lost sight of that quest or forgotten'},\n",
       "    {'timestamp': (0.0, 8.48),\n",
       "     'text': ' Through good and ill fortune alike, she has never lost sight of that quest or forgotten'},\n",
       "    {'timestamp': (8.48, 12.76),\n",
       "     'text': ' the ideals which gave her strength.'},\n",
       "    {'timestamp': (12.76, 22.16),\n",
       "     'text': ' We end today a period of ill fortune, and India discovers herself again.'},\n",
       "    {'timestamp': (0.0, 10.04),\n",
       "     'text': ' The achievement we celebrate today is but a step, an opening of opportunity to the greater'},\n",
       "    {'timestamp': (10.04, 13.24),\n",
       "     'text': ' triumphs and achievements that await us.'},\n",
       "    {'timestamp': (13.24, 20.8),\n",
       "     'text': ' Are we brave enough and wise enough to grasp this opportunity and accept the challenge'},\n",
       "    {'timestamp': (20.8, 23.68), 'text': ' of the future?'},\n",
       "    {'timestamp': (0.0, 3.68), 'text': ' challenge of the future.'},\n",
       "    {'timestamp': (3.68, 7.32),\n",
       "     'text': ' Freedom and power bring responsibility.'},\n",
       "    {'timestamp': (7.32, 14.16),\n",
       "     'text': ' That responsibility rests upon this assembly, a sovereign body representing the sovereign'},\n",
       "    {'timestamp': (14.16, 17.12), 'text': ' people of India.'},\n",
       "    {'timestamp': (17.12, 23.84),\n",
       "     'text': ' Before the birth of freedom, we have endured all the pains of labour, and our hearts are'},\n",
       "    {'timestamp': (23.84, 27.92),\n",
       "     'text': ' heavy with the memory of this sorrow.'},\n",
       "    {'timestamp': (0.0, 2.0), 'text': ' all the pains of labor,'},\n",
       "    {'timestamp': (2.0, 4.0), 'text': ' and our hearts are heavy'},\n",
       "    {'timestamp': (4.0, 6.0), 'text': ' with the memory of this sorrow.'},\n",
       "    {'timestamp': (8.0, 11.0),\n",
       "     'text': ' Some of those pains continue even now.'},\n",
       "    {'timestamp': (13.0, 15.0), 'text': ' Nevertheless, the past is over,'},\n",
       "    {'timestamp': (15.0, 17.0), 'text': ' and it is the future'},\n",
       "    {'timestamp': (17.0, 19.0), 'text': ' that beckons to us now.'},\n",
       "    {'timestamp': (21.0, 24.0),\n",
       "     'text': ' That future is not one of ease or resting,'},\n",
       "    {'timestamp': (24.0, 26.0), 'text': ' but of incessant striving,'},\n",
       "    {'timestamp': (26.0, 28.0), 'text': ' so that we might fulfill'},\n",
       "    {'timestamp': (0.0, 8.14),\n",
       "     'text': ' That future is not one of ease or resting, but of incessant striving, so that we might'},\n",
       "    {'timestamp': (8.14, 15.74),\n",
       "     'text': ' fulfil the pledges we have so often taken, and the one we shall take today.'},\n",
       "    {'timestamp': (15.74, 21.86),\n",
       "     'text': ' The service of India means the service of the millions who suffer.'},\n",
       "    {'timestamp': (0.0, 7.0),\n",
       "     'text': ' who suffer. It means the ending of poverty and ignorance and disease and inequality of'},\n",
       "    {'timestamp': (7.5, 14.5),\n",
       "     'text': ' opportunity. The ambition of the greatest men of our generation has been to wipe every'},\n",
       "    {'timestamp': (17.76, 24.76),\n",
       "     'text': ' tear from every eye. Death may be beyond us, but so long as there are tears and suffering,'},\n",
       "    {'timestamp': (0.0, 8.64),\n",
       "     'text': ' That may be beyond us, but so long as there are tears and suffering, so long our work'},\n",
       "    {'timestamp': (8.64, 11.72), 'text': ' will not be over.'},\n",
       "    {'timestamp': (11.72, 20.96),\n",
       "     'text': ' And so we have to labor and to work, and work hard to give reality to our dreams.'},\n",
       "    {'timestamp': (20.96, 28.4),\n",
       "     'text': ' Those dreams are for India, but they are also for the world, for all the nations and peoples'},\n",
       "    {'timestamp': (0.0, 8.4),\n",
       "     'text': ' Those dreams are for India, but they are also for the world, for all the nations and peoples'},\n",
       "    {'timestamp': (8.4, 16.24),\n",
       "     'text': ' are too closely knit together today for any one of them to imagine that it can live apart.'},\n",
       "    {'timestamp': (16.24, 25.28),\n",
       "     'text': ' Peace has been said to be indivisible, so is freedom, so is prosperity now, and so also'},\n",
       "    {'timestamp': (0.0, 9.34),\n",
       "     'text': ' freedom, so is prosperity now, and so also is disaster in this one world that can no'},\n",
       "    {'timestamp': (9.34, 14.64),\n",
       "     'text': ' longer be split into isolated fragments.'},\n",
       "    {'timestamp': (14.64, 21.52),\n",
       "     'text': ' To the people of India, whose representatives we are, we make appeal to join us with faith'},\n",
       "    {'timestamp': (21.52, 24.44),\n",
       "     'text': ' and confidence in this great adventure.'},\n",
       "    {'timestamp': (0.0, 4.4),\n",
       "     'text': ' join us with faith and confidence in this great adventure.'},\n",
       "    {'timestamp': (4.4, 14.16),\n",
       "     'text': ' This is no time for pity and destructive criticism, no time for ill will or blaming others.'},\n",
       "    {'timestamp': (14.16, 20.44),\n",
       "     'text': ' We have to build the noble mansion of free India where all her children may dwell.'},\n",
       "    {'timestamp': (0.0, 0.5), 'text': ' well.'}]}]]"
      ]
     },
     "execution_count": 60,
     "metadata": {},
     "output_type": "execute_result"
    }
   ],
   "source": [
    "# chunkable data\n",
    "%time list(pipeline(pipeline_data_large, **run_opts))"
   ]
  },
  {
   "cell_type": "code",
   "execution_count": null,
   "metadata": {},
   "outputs": [
    {
     "name": "stdout",
     "output_type": "stream",
     "text": [
      "event='ffmpeg conversion' time_taken='0.73s' application='whisper_stream' version='0.0.4' python_version='3.11.5' platform_architecture=('64bit', 'ELF') num_items=4 level='info' timestamp='2023-09-03T18:38:03.205106Z'\n",
      "TASKS {'smallest': BatchPreProcessorTasksMapping(task_callable=<bound method JAXStreamingPipeline._preprocess_batches_for_unchunkable of <whisper_stream.pipelines.jax_pipelines.streaming.JAXStreamingPipeline object at 0x7f6a0a56cdd0>>, task_kwargs={'inputs': [], 'batch_size': 1, 'target_sampling_rate': 16000, 'do_normalize': True}), 'largest': BatchPreProcessorTasksMapping(task_callable=<bound method JAXStreamingPipeline._generate_batching_info_for_chunkable of <whisper_stream.pipelines.jax_pipelines.streaming.JAXStreamingPipeline object at 0x7f6a0a56cdd0>>, task_kwargs={'inputs': [array([-0.0012111065443605185, -0.0008541397983208299,\n",
      "       -0.0015560932224616408, ..., 0.0, 0.0, 0.0], dtype=object), array([-0.0012111065443605185, -0.0008541397983208299,\n",
      "       -0.0015560932224616408, ..., 0.0, 0.0, 0.0], dtype=object), array([-0.0012111065443605185, -0.0008541397983208299,\n",
      "       -0.0015560932224616408, ..., 0.0, 0.0, 0.0], dtype=object), array([-0.0012111065443605185, -0.0008541397983208299,\n",
      "       -0.0015560932224616408, ..., 0.0, 0.0, 0.0], dtype=object)], 'chunk_length_s': 30.0, 'stride_length_s': None, 'batch_size': 1, 'target_sampling_rate': 16000, 'ratio': 1.0, 'do_normalize': True})}\n",
      "CPU times: user 15.8 s, sys: 33.5 s, total: 49.3 s\n",
      "Wall time: 8.73 s\n"
     ]
    },
    {
     "data": {
      "text/plain": [
       "[[{'text': ' will.', 'chunks': [{'timestamp': (0.0, 1.0), 'text': ' will.'}]}],\n",
       " [{'text': ' will.', 'chunks': [{'timestamp': (0.0, 1.0), 'text': ' will.'}]}],\n",
       " [{'text': ' will.', 'chunks': [{'timestamp': (0.0, 1.0), 'text': ' will.'}]}],\n",
       " [{'text': ' will.', 'chunks': [{'timestamp': (0.0, 1.0), 'text': ' will.'}]}]]"
      ]
     },
     "execution_count": 24,
     "metadata": {},
     "output_type": "execute_result"
    }
   ],
   "source": [
    "# chunkable data in batches\n",
    "%time list(pipeline([pipeline_data_large] * 10, **run_opts))"
   ]
  },
  {
   "cell_type": "code",
   "execution_count": null,
   "metadata": {},
   "outputs": [],
   "source": [
    "mixed_mode_data: list[bytes] = [\n",
    "    pipeline_data_large,\n",
    "    pipeline_data,\n",
    "    pipeline_data,\n",
    "    pipeline_data,\n",
    "] * 5"
   ]
  },
  {
   "cell_type": "code",
   "execution_count": null,
   "metadata": {},
   "outputs": [],
   "source": [
    "# mixed data, received as it comes, using default `smallest` strategy the smaller files will come in larger batches first\n",
    "start: float = time.time()\n",
    "for data in pipeline(mixed_mode_data, strategy=\"smallest\", **run_opts):\n",
    "    print({\"num_items\": len(data)}, end=\"\\n\")\n",
    "    print({\"data\": data, \"time_taken\": f\"{time.time() - start:.2}s\"}, end=\"\\n\")\n",
    "    print(\"-\" * 40, end=\"\\n\")\n",
    "    start = time.time()"
   ]
  }
 ],
 "metadata": {
  "kernelspec": {
   "display_name": ".venv",
   "language": "python",
   "name": "python3"
  },
  "language_info": {
   "codemirror_mode": {
    "name": "ipython",
    "version": 3
   },
   "file_extension": ".py",
   "mimetype": "text/x-python",
   "name": "python",
   "nbconvert_exporter": "python",
   "pygments_lexer": "ipython3",
   "version": "3.11.5"
  }
 },
 "nbformat": 4,
 "nbformat_minor": 2
}
